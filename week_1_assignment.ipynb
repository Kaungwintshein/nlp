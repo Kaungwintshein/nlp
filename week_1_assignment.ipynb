{
 "cells": [
  {
   "cell_type": "markdown",
   "metadata": {},
   "source": [
    "[![Open In Colab](https://colab.research.google.com/assets/colab-badge.svg)](https://github.com/Kaungwintshein/nlp/week_1_assignment.ipynb)"
   ]
  },
  {
   "cell_type": "code",
   "execution_count": null,
   "metadata": {},
   "outputs": [],
   "source": [
    "#String operation\n",
    "text = 'tHis iS A Text StRing'\n",
    "\n",
    "#to lowercase\n",
    "print('to lowercase: ',text.lower())\n",
    "\n",
    "#to uppercase\n",
    "print('to uppercase: ',text.upper())\n",
    "\n",
    "#to capitalize\n",
    "print('to capitalize: ',text.capitalize())\n",
    "\n",
    "#to uppercase\n",
    "print('to uppercase: ',text.upper())\n",
    "\n",
    "#split\n",
    "print(text.capitalize().split(\" \"))\n",
    "print(text.capitalize().split(\" \",maxsplit=2))\n",
    "print(text.capitalize().rsplit(\" \", maxsplit=2))\n",
    "print(\"---------------||--------------\")\n",
    "print('\\n')\n",
    "text2 = 'This string will be split\\nin two'\n",
    "print(text2)\n",
    "\n",
    "#split lines\n",
    "print(\"splitlines: \",text2.splitlines())\n",
    "\n",
    "text3 = text.capitalize().split(\" \")\n",
    "#join\n",
    "print(\" \".join(text3))\n",
    "\n",
    "#strip\n",
    "text4 = \"   This is a text string    \"\n",
    "print(\"before strip: \", text4)\n",
    "print(\"after strip: \",text_join.strip())"
   ]
  },
  {
   "cell_type": "code",
   "execution_count": null,
   "metadata": {},
   "outputs": [],
   "source": [
    "import re\n",
    "BreakPattern = re.compile(r'\\d+|[^\\w\\s]|[^က-အ]')\n",
    "sentence=\"2021 she3 is 1a girl1 $$$ %%%% ကကက  77 @\"\n",
    "line = BreakPattern.sub(\" \" , sentence)\n",
    "line.strip()"
   ]
  },
  {
   "cell_type": "code",
   "execution_count": null,
   "metadata": {},
   "outputs": [],
   "source": [
    "import re\n",
    "BreakPattern = re.compile(r\"((?<!္)[က-အ](?![္်])|[၀-၉]|[ဣဤဥဦဧဩဪဿ၌၍၏၊။])\" )\n",
    "sentence=\"ကလေးများကစားကြသည်သတ္တိရှိကြသည်။၏ ၇၈ ချိစ်\"\n",
    "sentence = sentence.replace(\" \", '')\n",
    "print(sentence)\n",
    "line = BreakPattern.sub(\"_\" + r\"\\1\", sentence)\n",
    "line"
   ]
  },
  {
   "cell_type": "code",
   "execution_count": null,
   "metadata": {},
   "outputs": [],
   "source": [
    "#secondary\n",
    "import re\n",
    "with open('https://raw.githubusercontent.com/Kaungwintshein/nlp/main/input_for_token.txt', 'r') as file:\n",
    "    data = file.read()\n",
    "    data = data.replace(\" \", '')\n",
    "    print(\"This is Original Data\")\n",
    "    print(data)\n",
    "    print(\"==================||================\")\n",
    "\n",
    "    print(\"This is result without spaces\")\n",
    "    pattern = r'[a-zA-z0-9၀-၁(){}.,/?><:;*&^%$#@!~\\-+=\\'\\\"\\s]'\n",
    "    line = re.sub(pattern,'', data)\n",
    "    line = re.sub(\" +\", ' ', line)\n",
    "    no_num_string = re.sub(r'/d+', '',line)\n",
    "    BreakPattern = re.compile(r'((?<!္)[က-အဣဤဥဦဧဩဪဿ၌၍၏၊။](?![္်]))')\n",
    "    res1 = BreakPattern.sub(\"_\"+ r'\\1', no_num_string)\n",
    "    print(res1)\n",
    "    print('\\n')\n",
    "    print(\"==================||================\")\n",
    "\n",
    "    print(\"This is result with removing spaces\")\n",
    "    pattern = r'[a-zA-z0-9၀-၁(){}.,/?><:;*&^%$#@!~\\-+=\\'\\\"]'\n",
    "    line = re.sub(pattern,'', data)\n",
    "    line = re.sub(\" +\", ' ', line)\n",
    "    no_num_string = re.sub(r'/d+', '',line)\n",
    "    BreakPattern = re.compile(r'((?<!္)[က-အဣဤဥဦဧဩဪဿ၌၍၏၊။](?![္်]))')\n",
    "    res2 = BreakPattern.sub(\"_\"+ r'\\1', no_num_string)\n",
    "    print(res2)\n",
    "\n",
    "    token = res1.split(\"_\")\n",
    "    print(token)\n",
    "\n",
    "    print(\"\".join(token))"
   ]
  }
 ],
 "metadata": {
  "interpreter": {
   "hash": "fd69f43f58546b570e94fd7eba7b65e6bcc7a5bbc4eab0408017d18902915d69"
  },
  "kernelspec": {
   "display_name": "Python 3.7.11 64-bit",
   "name": "python3"
  },
  "language_info": {
   "name": "python",
   "version": ""
  },
  "orig_nbformat": 4
 },
 "nbformat": 4,
 "nbformat_minor": 2
}